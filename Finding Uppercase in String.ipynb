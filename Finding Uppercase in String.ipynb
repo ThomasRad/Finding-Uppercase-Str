{
 "cells": [
  {
   "cell_type": "markdown",
   "metadata": {},
   "source": [
    "# Following Along YouTube Tutorial"
   ]
  },
  {
   "cell_type": "code",
   "execution_count": 1,
   "metadata": {},
   "outputs": [],
   "source": [
    "# Create our text\n",
    "\n",
    "text_1 = \"THoMasRad\"\n",
    "text_2 = \"thomasRad\""
   ]
  },
  {
   "cell_type": "code",
   "execution_count": 5,
   "metadata": {},
   "outputs": [],
   "source": [
    "# Creating our iter function.\n",
    "\n",
    "def find_first_upper_iter(input_str):\n",
    "    for i in range(len(input_str)):\n",
    "        if input_str[i].isupper():\n",
    "            return input_str[i]\n",
    "    return \"None\" "
   ]
  },
  {
   "cell_type": "code",
   "execution_count": 8,
   "metadata": {},
   "outputs": [
    {
     "name": "stdout",
     "output_type": "stream",
     "text": [
      "Ans 1: T and Ans 2: R\n"
     ]
    }
   ],
   "source": [
    "# Test it out. \n",
    "\n",
    "Ans1 = find_first_upper_iter(text_1)\n",
    "Ans2 = find_first_upper_iter(text_2)\n",
    "\n",
    "print(\"Ans 1: {} and Ans 2: {}\".format(Ans1,Ans2))"
   ]
  },
  {
   "cell_type": "code",
   "execution_count": 10,
   "metadata": {},
   "outputs": [],
   "source": [
    "# Creating our Recursive function.\n",
    "\n",
    "def find_upper_recursive(input_str, idx = 0):\n",
    "    if input_str[idx].isupper():\n",
    "        return input_str[idx]\n",
    "    if idx == len(input_str ) -1:\n",
    "        return \"None\"\n",
    "    return find_upper_recursive(input_str, idx +1)"
   ]
  },
  {
   "cell_type": "code",
   "execution_count": 11,
   "metadata": {},
   "outputs": [
    {
     "name": "stdout",
     "output_type": "stream",
     "text": [
      "Ans 3: T and Ans 4: R\n"
     ]
    }
   ],
   "source": [
    "# Test it out. \n",
    "\n",
    "Ans3 = find_upper_recursive(text_1)\n",
    "Ans4 = find_upper_recursive(text_2)\n",
    "\n",
    "print(\"Ans 3: {} and Ans 4: {}\".format(Ans3,Ans4))"
   ]
  }
 ],
 "metadata": {
  "kernelspec": {
   "display_name": "Python 3",
   "language": "python",
   "name": "python3"
  },
  "language_info": {
   "codemirror_mode": {
    "name": "ipython",
    "version": 3
   },
   "file_extension": ".py",
   "mimetype": "text/x-python",
   "name": "python",
   "nbconvert_exporter": "python",
   "pygments_lexer": "ipython3",
   "version": "3.7.6"
  }
 },
 "nbformat": 4,
 "nbformat_minor": 4
}
